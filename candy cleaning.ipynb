{
 "cells": [
  {
   "cell_type": "code",
   "execution_count": 44,
   "metadata": {},
   "outputs": [],
   "source": [
    "import pandas as pd \n",
    "import numpy as np\n",
    "import matplotlib.pyplot as plt \n",
    "import seaborn as sns \n",
    "from matplotlib import pyplot \n",
    "import seaborn\n",
    "%matplotlib inline "
   ]
  },
  {
   "cell_type": "code",
   "execution_count": 125,
   "metadata": {},
   "outputs": [],
   "source": [
    "df=pd.read_excel(\"C:\\\\Users\\Dell\\Downloads\\candyhierarchy2017.xlsx\")"
   ]
  },
  {
   "cell_type": "code",
   "execution_count": 256,
   "metadata": {},
   "outputs": [
    {
     "data": {
      "text/html": [
       "<div>\n",
       "<style scoped>\n",
       "    .dataframe tbody tr th:only-of-type {\n",
       "        vertical-align: middle;\n",
       "    }\n",
       "\n",
       "    .dataframe tbody tr th {\n",
       "        vertical-align: top;\n",
       "    }\n",
       "\n",
       "    .dataframe thead th {\n",
       "        text-align: right;\n",
       "    }\n",
       "</style>\n",
       "<table border=\"1\" class=\"dataframe\">\n",
       "  <thead>\n",
       "    <tr style=\"text-align: right;\">\n",
       "      <th></th>\n",
       "      <th>Internal ID</th>\n",
       "      <th>Q1: GOING OUT?</th>\n",
       "      <th>Q2: GENDER</th>\n",
       "      <th>Q3: AGE</th>\n",
       "      <th>Q4: COUNTRY</th>\n",
       "      <th>Q5: STATE, PROVINCE, COUNTY, ETC</th>\n",
       "      <th>Q6 | Any full-sized candy bar</th>\n",
       "      <th>Q6 | Box'o'Raisins</th>\n",
       "      <th>Q6 | Butterfinger</th>\n",
       "      <th>Q6 | Cadbury Creme Eggs</th>\n",
       "      <th>...</th>\n",
       "      <th>Q6 | Milk Duds</th>\n",
       "      <th>Q6 | Milky Way</th>\n",
       "      <th>Q6 | Regular M&amp;Ms</th>\n",
       "      <th>Q6 | Peanut M&amp;M’s</th>\n",
       "      <th>Q6 | Nestle Crunch</th>\n",
       "      <th>Q6 | Reese’s Peanut Butter Cups</th>\n",
       "      <th>Q6 | Reese's Pieces</th>\n",
       "      <th>Q6 | Snickers</th>\n",
       "      <th>Q6 | Starburst</th>\n",
       "      <th>Q6 | Twix</th>\n",
       "    </tr>\n",
       "  </thead>\n",
       "  <tbody>\n",
       "    <tr>\n",
       "      <th>1</th>\n",
       "      <td>90272821</td>\n",
       "      <td>No</td>\n",
       "      <td>MALE</td>\n",
       "      <td>44.0</td>\n",
       "      <td>USA</td>\n",
       "      <td>NM</td>\n",
       "      <td>JOY</td>\n",
       "      <td>DESPAIR</td>\n",
       "      <td>DESPAIR</td>\n",
       "      <td>MEH</td>\n",
       "      <td>...</td>\n",
       "      <td>MEH</td>\n",
       "      <td>JOY</td>\n",
       "      <td>JOY</td>\n",
       "      <td>MEH</td>\n",
       "      <td>JOY</td>\n",
       "      <td>JOY</td>\n",
       "      <td>JOY</td>\n",
       "      <td>MEH</td>\n",
       "      <td>MEH</td>\n",
       "      <td>JOY</td>\n",
       "    </tr>\n",
       "    <tr>\n",
       "      <th>3</th>\n",
       "      <td>90272840</td>\n",
       "      <td>No</td>\n",
       "      <td>MALE</td>\n",
       "      <td>40.0</td>\n",
       "      <td>USA</td>\n",
       "      <td>or</td>\n",
       "      <td>JOY</td>\n",
       "      <td>DESPAIR</td>\n",
       "      <td>MEH</td>\n",
       "      <td>MEH</td>\n",
       "      <td>...</td>\n",
       "      <td>DESPAIR</td>\n",
       "      <td>JOY</td>\n",
       "      <td>MEH</td>\n",
       "      <td>JOY</td>\n",
       "      <td>MEH</td>\n",
       "      <td>JOY</td>\n",
       "      <td>MEH</td>\n",
       "      <td>JOY</td>\n",
       "      <td>MEH</td>\n",
       "      <td>JOY</td>\n",
       "    </tr>\n",
       "    <tr>\n",
       "      <th>7</th>\n",
       "      <td>90272854</td>\n",
       "      <td>No</td>\n",
       "      <td>MALE</td>\n",
       "      <td>33.0</td>\n",
       "      <td>Canada</td>\n",
       "      <td>ontario</td>\n",
       "      <td>JOY</td>\n",
       "      <td>MEH</td>\n",
       "      <td>JOY</td>\n",
       "      <td>JOY</td>\n",
       "      <td>...</td>\n",
       "      <td>JOY</td>\n",
       "      <td>JOY</td>\n",
       "      <td>JOY</td>\n",
       "      <td>JOY</td>\n",
       "      <td>JOY</td>\n",
       "      <td>JOY</td>\n",
       "      <td>JOY</td>\n",
       "      <td>MEH</td>\n",
       "      <td>MEH</td>\n",
       "      <td>JOY</td>\n",
       "    </tr>\n",
       "    <tr>\n",
       "      <th>8</th>\n",
       "      <td>90272858</td>\n",
       "      <td>No</td>\n",
       "      <td>MALE</td>\n",
       "      <td>40.0</td>\n",
       "      <td>Canada</td>\n",
       "      <td>Ontario</td>\n",
       "      <td>JOY</td>\n",
       "      <td>DESPAIR</td>\n",
       "      <td>JOY</td>\n",
       "      <td>MEH</td>\n",
       "      <td>...</td>\n",
       "      <td>JOY</td>\n",
       "      <td>JOY</td>\n",
       "      <td>JOY</td>\n",
       "      <td>JOY</td>\n",
       "      <td>JOY</td>\n",
       "      <td>JOY</td>\n",
       "      <td>JOY</td>\n",
       "      <td>JOY</td>\n",
       "      <td>DESPAIR</td>\n",
       "      <td>JOY</td>\n",
       "    </tr>\n",
       "    <tr>\n",
       "      <th>9</th>\n",
       "      <td>90272859</td>\n",
       "      <td>No</td>\n",
       "      <td>Female</td>\n",
       "      <td>53.0</td>\n",
       "      <td>USA</td>\n",
       "      <td>Wa</td>\n",
       "      <td>JOY</td>\n",
       "      <td>MEH</td>\n",
       "      <td>MEH</td>\n",
       "      <td>DESPAIR</td>\n",
       "      <td>...</td>\n",
       "      <td>MEH</td>\n",
       "      <td>MEH</td>\n",
       "      <td>JOY</td>\n",
       "      <td>MEH</td>\n",
       "      <td>MEH</td>\n",
       "      <td>JOY</td>\n",
       "      <td>JOY</td>\n",
       "      <td>MEH</td>\n",
       "      <td>MEH</td>\n",
       "      <td>JOY</td>\n",
       "    </tr>\n",
       "  </tbody>\n",
       "</table>\n",
       "<p>5 rows × 38 columns</p>\n",
       "</div>"
      ],
      "text/plain": [
       "   Internal ID Q1: GOING OUT? Q2: GENDER  Q3: AGE Q4: COUNTRY  \\\n",
       "1     90272821             No       MALE     44.0         USA   \n",
       "3     90272840             No       MALE     40.0         USA   \n",
       "7     90272854             No       MALE     33.0      Canada   \n",
       "8     90272858             No       MALE     40.0      Canada   \n",
       "9     90272859             No     Female     53.0         USA   \n",
       "\n",
       "  Q5: STATE, PROVINCE, COUNTY, ETC Q6 | Any full-sized candy bar  \\\n",
       "1                               NM                           JOY   \n",
       "3                               or                           JOY   \n",
       "7                          ontario                           JOY   \n",
       "8                          Ontario                           JOY   \n",
       "9                               Wa                           JOY   \n",
       "\n",
       "  Q6 | Box'o'Raisins Q6 | Butterfinger Q6 | Cadbury Creme Eggs  ...  \\\n",
       "1            DESPAIR           DESPAIR                     MEH  ...   \n",
       "3            DESPAIR               MEH                     MEH  ...   \n",
       "7                MEH               JOY                     JOY  ...   \n",
       "8            DESPAIR               JOY                     MEH  ...   \n",
       "9                MEH               MEH                 DESPAIR  ...   \n",
       "\n",
       "  Q6 | Milk Duds Q6 | Milky Way Q6 | Regular M&Ms Q6 | Peanut M&M’s  \\\n",
       "1            MEH            JOY               JOY               MEH   \n",
       "3        DESPAIR            JOY               MEH               JOY   \n",
       "7            JOY            JOY               JOY               JOY   \n",
       "8            JOY            JOY               JOY               JOY   \n",
       "9            MEH            MEH               JOY               MEH   \n",
       "\n",
       "  Q6 | Nestle Crunch Q6 | Reese’s Peanut Butter Cups Q6 | Reese's Pieces  \\\n",
       "1                JOY                             JOY                 JOY   \n",
       "3                MEH                             JOY                 MEH   \n",
       "7                JOY                             JOY                 JOY   \n",
       "8                JOY                             JOY                 JOY   \n",
       "9                MEH                             JOY                 JOY   \n",
       "\n",
       "  Q6 | Snickers Q6 | Starburst Q6 | Twix  \n",
       "1           MEH            MEH       JOY  \n",
       "3           JOY            MEH       JOY  \n",
       "7           MEH            MEH       JOY  \n",
       "8           JOY        DESPAIR       JOY  \n",
       "9           MEH            MEH       JOY  \n",
       "\n",
       "[5 rows x 38 columns]"
      ]
     },
     "execution_count": 256,
     "metadata": {},
     "output_type": "execute_result"
    }
   ],
   "source": [
    "df.head(5)"
   ]
  },
  {
   "cell_type": "code",
   "execution_count": 9,
   "metadata": {},
   "outputs": [
    {
     "data": {
      "text/plain": [
       "(2460, 120)"
      ]
     },
     "execution_count": 9,
     "metadata": {},
     "output_type": "execute_result"
    }
   ],
   "source": [
    "df.shape"
   ]
  },
  {
   "cell_type": "code",
   "execution_count": null,
   "metadata": {},
   "outputs": [],
   "source": []
  },
  {
   "cell_type": "code",
   "execution_count": 168,
   "metadata": {},
   "outputs": [
    {
     "data": {
      "text/plain": [
       "Index(['Internal ID', 'Q1: GOING OUT?', 'Q2: GENDER', 'Q3: AGE', 'Q4: COUNTRY',\n",
       "       'Q5: STATE, PROVINCE, COUNTY, ETC', 'Q6 | 100 Grand Bar',\n",
       "       'Q6 | Anonymous brown globs that come in black and orange wrappers\\t(a.k.a. Mary Janes)',\n",
       "       'Q6 | Any full-sized candy bar', 'Q6 | Black Jacks',\n",
       "       ...\n",
       "       'Q8: DESPAIR OTHER', 'Q9: OTHER COMMENTS', 'Q10: DRESS', 'Unnamed: 113',\n",
       "       'Q11: DAY', 'Q12: MEDIA [Daily Dish]', 'Q12: MEDIA [Science]',\n",
       "       'Q12: MEDIA [ESPN]', 'Q12: MEDIA [Yahoo]', 'Click Coordinates (x, y)'],\n",
       "      dtype='object', length=120)"
      ]
     },
     "execution_count": 168,
     "metadata": {},
     "output_type": "execute_result"
    }
   ],
   "source": [
    "df.columns"
   ]
  },
  {
   "cell_type": "code",
   "execution_count": 47,
   "metadata": {},
   "outputs": [
    {
     "data": {
      "text/plain": [
       "Internal ID                                                                                  0\n",
       "Q1: GOING OUT?                                                                             110\n",
       "Q2: GENDER                                                                                  41\n",
       "Q3: AGE                                                                                     84\n",
       "Q4: COUNTRY                                                                                 64\n",
       "Q5: STATE, PROVINCE, COUNTY, ETC                                                           100\n",
       "Q6 | 100 Grand Bar                                                                         747\n",
       "Q6 | Anonymous brown globs that come in black and orange wrappers\\t(a.k.a. Mary Janes)     734\n",
       "Q6 | Any full-sized candy bar                                                              672\n",
       "Q6 | Black Jacks                                                                           958\n",
       "Q6 | Bonkers (the candy)                                                                   992\n",
       "Q6 | Bonkers (the board game)                                                             1006\n",
       "Q6 | Bottle Caps                                                                           765\n",
       "Q6 | Box'o'Raisins                                                                         688\n",
       "Q6 | Broken glow stick                                                                     706\n",
       "Q6 | Butterfinger                                                                          682\n",
       "Q6 | Cadbury Creme Eggs                                                                    683\n",
       "Q6 | Candy Corn                                                                            678\n",
       "Q6 | Candy that is clearly just the stuff given out for free at restaurants                691\n",
       "Q6 | Caramellos                                                                            752\n",
       "Q6 | Cash, or other forms of legal tender                                                  680\n",
       "Q6 | Chardonnay                                                                            743\n",
       "Q6 | Chick-o-Sticks (we don’t know what that is)                                           946\n",
       "Q6 | Chiclets                                                                              711\n",
       "Q6 | Coffee Crisp                                                                          853\n",
       "Q6 | Creepy Religious comics/Chick Tracts                                                  704\n",
       "Q6 | Dental paraphenalia                                                                   692\n",
       "Q6 | Dots                                                                                  729\n",
       "Q6 | Dove Bars                                                                             702\n",
       "Q6 | Fuzzy Peaches                                                                         823\n",
       "                                                                                          ... \n",
       "Q6 | Sourpatch Kids (i.e. abominations of nature)                                          738\n",
       "Q6 | Spotted Dick                                                                          882\n",
       "Q6 | Starburst                                                                             693\n",
       "Q6 | Sweet Tarts                                                                           708\n",
       "Q6 | Swedish Fish                                                                          715\n",
       "Q6 | Sweetums (a friend to diabetes)                                                      1002\n",
       "Q6 | Take 5                                                                                917\n",
       "Q6 | Tic Tacs                                                                              714\n",
       "Q6 | Those odd marshmallow circus peanut things                                            736\n",
       "Q6 | Three Musketeers                                                                      708\n",
       "Q6 | Tolberone something or other                                                          706\n",
       "Q6 | Trail Mix                                                                             708\n",
       "Q6 | Twix                                                                                  690\n",
       "Q6 | Vials of pure high fructose corn syrup, for main-lining into your vein                792\n",
       "Q6 | Vicodin                                                                               789\n",
       "Q6 | Whatchamacallit Bars                                                                  823\n",
       "Q6 | White Bread                                                                           757\n",
       "Q6 | Whole Wheat anything                                                                  747\n",
       "Q6 | York Peppermint Patties                                                               705\n",
       "Q7: JOY OTHER                                                                             1549\n",
       "Q8: DESPAIR OTHER                                                                         1743\n",
       "Q9: OTHER COMMENTS                                                                        2074\n",
       "Q10: DRESS                                                                                 744\n",
       "Unnamed: 113                                                                              2451\n",
       "Q11: DAY                                                                                   725\n",
       "Q12: MEDIA [Daily Dish]                                                                   2375\n",
       "Q12: MEDIA [Science]                                                                      1098\n",
       "Q12: MEDIA [ESPN]                                                                         2361\n",
       "Q12: MEDIA [Yahoo]                                                                        2393\n",
       "Click Coordinates (x, y)                                                                   855\n",
       "Length: 120, dtype: int64"
      ]
     },
     "execution_count": 47,
     "metadata": {},
     "output_type": "execute_result"
    }
   ],
   "source": [
    "df.isnull().sum()"
   ]
  },
  {
   "cell_type": "code",
   "execution_count": 48,
   "metadata": {},
   "outputs": [
    {
     "data": {
      "text/plain": [
       "array([nan, 'Male', 'Female', \"I'd rather not say\", 'Other'], dtype=object)"
      ]
     },
     "execution_count": 48,
     "metadata": {},
     "output_type": "execute_result"
    }
   ],
   "source": [
    "df[\"Q2: GENDER\"].unique()"
   ]
  },
  {
   "cell_type": "code",
   "execution_count": 73,
   "metadata": {},
   "outputs": [],
   "source": [
    "c=set([i for i in df['Q4: COUNTRY']  if (type(i)==str and (i[0]=='u' and i[1]=='s'))])\n",
    "\n",
    "d={}\n",
    "for i in c :\n",
    "    d[i]='USA'\n",
    "\n",
    "\n"
   ]
  },
  {
   "cell_type": "code",
   "execution_count": 76,
   "metadata": {},
   "outputs": [],
   "source": [
    "c=set([i for i in df['Q4: COUNTRY']  if (type(i)==str and (i[0]=='U' and i[1]=='S'))])\n",
    "for i in c :\n",
    "    d[i]='USA'"
   ]
  },
  {
   "cell_type": "code",
   "execution_count": 95,
   "metadata": {},
   "outputs": [
    {
     "ename": "SyntaxError",
     "evalue": "invalid syntax (<ipython-input-95-897ba8dc02fe>, line 1)",
     "output_type": "error",
     "traceback": [
      "\u001b[1;36m  File \u001b[1;32m\"<ipython-input-95-897ba8dc02fe>\"\u001b[1;36m, line \u001b[1;32m1\u001b[0m\n\u001b[1;33m    c=set([i for i in df['Q4: COUNTRY']  if (type(i)==str and (if 's' is in i))])\u001b[0m\n\u001b[1;37m                                                                ^\u001b[0m\n\u001b[1;31mSyntaxError\u001b[0m\u001b[1;31m:\u001b[0m invalid syntax\n"
     ]
    }
   ],
   "source": [
    "c=set([i for i in df['Q4: COUNTRY']  if (type(i)==str and (if 's' is in i))])\n",
    "for i in c :\n",
    "    d[i]='USA'"
   ]
  },
  {
   "cell_type": "code",
   "execution_count": 96,
   "metadata": {},
   "outputs": [
    {
     "name": "stdout",
     "output_type": "stream",
     "text": [
      "{'usas': 'USA', 'us': 'USA', 'usa': 'USA', 'USa': 'USA', 'USA! USA! USA!': 'USA', 'US of A': 'USA', 'USA ': 'USA', 'US': 'USA', 'USA': 'USA', 'USSA': 'USA', 'USA? Hard to tell anymore..': 'USA', 'USA USA USA!!!!': 'USA', 'USAA': 'USA', 'USAUSAUSA': 'USA', 'Us': 'USA', 'Usa': 'USA', 'Usa ': 'USA'}\n"
     ]
    }
   ],
   "source": [
    "print(d)"
   ]
  },
  {
   "cell_type": "code",
   "execution_count": 92,
   "metadata": {},
   "outputs": [
    {
     "data": {
      "text/plain": [
       "17"
      ]
     },
     "execution_count": 92,
     "metadata": {},
     "output_type": "execute_result"
    }
   ],
   "source": [
    "cnt=0\n",
    "for i in d.keys() :\n",
    "    cnt+=1\n",
    "cnt"
   ]
  },
  {
   "cell_type": "code",
   "execution_count": 130,
   "metadata": {
    "scrolled": true
   },
   "outputs": [
    {
     "data": {
      "text/plain": [
       "array([None, 'USA', 'canada', 'Canada', 'Murica', 'uk', 'United Kingdom',\n",
       "       'UAE', 'England', 'UK', 'canada ', 'Mexico', 'america', 'france',\n",
       "       'finland', 'Canada ', 'North Carolina ', 'Netherlands', 'germany',\n",
       "       'Europe', 'Earth', 'U.K. ', 'Costa Rica', 'cascadia',\n",
       "       'insanity lately', 'Greece', \"'merica\", 'France', 'A', 'Can',\n",
       "       'Canae', 'New York', 'Ireland', 'Korea', 'California', 'Japan',\n",
       "       'Uk', 'Iceland', 'Germany', 'Canada`', 'Scotland', 'UK ',\n",
       "       'Denmark', 'France ', 'Switzerland', 'Ahem....Amerca', 'UD',\n",
       "       'Scotland ', 'New Jersey', 'CANADA', 'Indonesia', 'America',\n",
       "       'The Netherlands', 'endland', 'Atlantis', 'murrika', 'Alaska',\n",
       "       'N. America', 'Singapore', 'China', 'Taiwan', 'Ireland ',\n",
       "       'hong kong', 'spain', 'Sweden', 'Hong Kong', 'Narnia',\n",
       "       'United kingdom', \"I don't know anymore\", 'Fear and Loathing'],\n",
       "      dtype=object)"
      ]
     },
     "execution_count": 130,
     "metadata": {},
     "output_type": "execute_result"
    }
   ],
   "source": [
    "df['Q4: COUNTRY'].unique()"
   ]
  },
  {
   "cell_type": "code",
   "execution_count": 174,
   "metadata": {},
   "outputs": [],
   "source": [
    "def m (x):\n",
    "    if (type(x)==str):\n",
    "        if('U' in x and 's' in x):\n",
    "            return 'USA'\n",
    "        elif('u' in x and 's' in x):\n",
    "            return 'USA'\n",
    "        elif('U' in x and 'S' in x):\n",
    "            return 'USA'\n",
    "        elif('u' in x and 'S' in x):\n",
    "            return 'USA'\n",
    "        elif(x=='New York' or x=='america'or x=='California'or x=='Ahem....Amerca'or x=='New Jersey'or x=='America'or x=='N. America'):\n",
    "            return 'USA'\n",
    "        elif(x==\"'merica\" or x=='A'  ):\n",
    "            return 'USA'\n",
    "        else :\n",
    "            return x\n",
    "        "
   ]
  },
  {
   "cell_type": "code",
   "execution_count": 208,
   "metadata": {},
   "outputs": [],
   "source": [
    "\n",
    "df['Q4: COUNTRY']=df['Q4: COUNTRY'].map(m)"
   ]
  },
  {
   "cell_type": "code",
   "execution_count": 194,
   "metadata": {},
   "outputs": [],
   "source": [
    "def c (x):\n",
    "    if (type(x)==str):\n",
    "        if('ana' in x or 'ANA' in x or 'Can' in x):\n",
    "            return 'Canada'\n",
    "        else :\n",
    "            return x"
   ]
  },
  {
   "cell_type": "code",
   "execution_count": 196,
   "metadata": {},
   "outputs": [],
   "source": [
    "df['Q4: COUNTRY']=df['Q4: COUNTRY'].map(c)"
   ]
  },
  {
   "cell_type": "code",
   "execution_count": 210,
   "metadata": {},
   "outputs": [
    {
     "data": {
      "text/plain": [
       "array([None, 'USA', 'Canada', 'Murica', 'Uk', 'UAE', 'Mexico', 'France',\n",
       "       'finland', 'North Carolina ', 'Netherlands', 'Germany',\n",
       "       'Costa Rica', 'cascadia', 'insanity lately', 'Greece', 'Ireland',\n",
       "       'Korea', 'Japan', 'Iceland', 'Scotland', 'Denmark', 'France ',\n",
       "       'Switzerland', 'Indonesia', 'The Netherlands', 'Atlantis',\n",
       "       'Alaska', 'Singapore', 'China', 'Taiwan', 'Ireland ', 'spain',\n",
       "       'Sweden', 'Narnia'], dtype=object)"
      ]
     },
     "execution_count": 210,
     "metadata": {},
     "output_type": "execute_result"
    }
   ],
   "source": [
    "df['Q4: COUNTRY'].unique()"
   ]
  },
  {
   "cell_type": "code",
   "execution_count": 209,
   "metadata": {},
   "outputs": [
    {
     "data": {
      "text/plain": [
       "34"
      ]
     },
     "execution_count": 209,
     "metadata": {},
     "output_type": "execute_result"
    }
   ],
   "source": [
    "df['Q4: COUNTRY'].nunique()"
   ]
  },
  {
   "cell_type": "code",
   "execution_count": 185,
   "metadata": {},
   "outputs": [],
   "source": [
    "def K (x):\n",
    "    if (type(x)==str):\n",
    "        if('U' in x and 'K' in x):\n",
    "            return 'Uk'\n",
    "        elif('u' in x and 'K' in x):\n",
    "            return 'Uk'\n",
    "        elif('U' in x and 'k' in x):\n",
    "            return 'Uk'\n",
    "        elif('u' in x and 'k' in x):\n",
    "            return 'Uk'\n",
    "        elif (x=='England'or x=='endland'):\n",
    "            return  'Uk'\n",
    "        elif (x=='France'or x=='france'):\n",
    "            return  'France'\n",
    "        elif (x=='hong kong' or x=='Hong Kong'or x=='china'):\n",
    "            return 'China'\n",
    "    \n",
    "        else :\n",
    "            return x\n",
    "df['Q4: COUNTRY']=df['Q4: COUNTRY'].map(K)\n"
   ]
  },
  {
   "cell_type": "code",
   "execution_count": 206,
   "metadata": {},
   "outputs": [
    {
     "data": {
      "text/plain": [
       "<matplotlib.axes._subplots.AxesSubplot at 0x29eda7f7d68>"
      ]
     },
     "execution_count": 206,
     "metadata": {},
     "output_type": "execute_result"
    },
    {
     "data": {
      "image/png": "[encoded data removed]",
      "text/plain": [
       "<Figure size 432x288 with 1 Axes>"
      ]
     },
     "metadata": {
      "needs_background": "light"
     },
     "output_type": "display_data"
    }
   ],
   "source": [
    "df['Q4: COUNTRY'].value_counts().plot('bar')"
   ]
  },
  {
   "cell_type": "code",
   "execution_count": 205,
   "metadata": {},
   "outputs": [
    {
     "data": {
      "text/plain": [
       "array([None, 'USA', 'Canada', 'Murica', 'Uk', 'UAE', 'Mexico', 'France',\n",
       "       'finland', 'North Carolina ', 'Netherlands', 'germany',\n",
       "       'Costa Rica', 'cascadia', 'insanity lately', 'Greece', 'Ireland',\n",
       "       'Korea', 'Japan', 'Iceland', 'Germany', 'Scotland', 'Denmark',\n",
       "       'France ', 'Switzerland', 'Indonesia', 'The Netherlands',\n",
       "       'Atlantis', 'Alaska', 'Singapore', 'China', 'Taiwan', 'Ireland ',\n",
       "       'spain', 'Sweden', 'Narnia'], dtype=object)"
      ]
     },
     "execution_count": 205,
     "metadata": {},
     "output_type": "execute_result"
    }
   ],
   "source": [
    "df['Q4: COUNTRY'].unique()"
   ]
  },
  {
   "cell_type": "code",
   "execution_count": 207,
   "metadata": {},
   "outputs": [],
   "source": [
    "#any meaningless thing i will replace it wtih 'USA' just because the are stupids\n",
    "def m (x):\n",
    "    if (type(x)==str):\n",
    "        if('U' in x and 's' in x):\n",
    "            return 'USA'\n",
    "        elif('u' in x and 's' in x):\n",
    "            return 'USA'\n",
    "        elif('U' in x and 'S' in x):\n",
    "            return 'USA'\n",
    "        elif('u' in x and 'S' in x):\n",
    "            return 'USA'\n",
    "        elif(x=='New York' or x=='america'or x=='California'or x=='Ahem....Amerca'or x=='New Jersey'or x=='America'or x=='N. America'):\n",
    "            return 'USA'\n",
    "        elif(x==\"'merica\" or x=='A'  ):\n",
    "            return 'USA'\n",
    "        elif(x==\"I don't know anymore\" or x=='Fear and Loathing'or x=='UD'or x=='Europe' or x=='Earth'):\n",
    "            return 'USA'\n",
    "        elif(x=='Scotland '):\n",
    "            return 'Scotland'\n",
    "        elif (x==\"germany\"):\n",
    "            return 'Germany'\n",
    "        \n",
    "        else :\n",
    "            return x\n",
    "#yalhwwwwwwwwwwwwwwwwwwwwwwwwwwwwwwwwwwwwwwwwwwwwwwwwwwwwwwwwwwwwwwwwwwwwwwwwwwwwwwwwwwwwwwwwwwy "
   ]
  },
  {
   "cell_type": "code",
   "execution_count": 211,
   "metadata": {},
   "outputs": [
    {
     "data": {
      "text/plain": [
       "<matplotlib.axes._subplots.AxesSubplot at 0x29eda895710>"
      ]
     },
     "execution_count": 211,
     "metadata": {},
     "output_type": "execute_result"
    },
    {
     "data": {
      "image/png": "[encoded data removed]",
      "text/plain": [
       "<Figure size 432x288 with 1 Axes>"
      ]
     },
     "metadata": {
      "needs_background": "light"
     },
     "output_type": "display_data"
    }
   ],
   "source": [
    "df[\"Q2: GENDER\"].value_counts().plot('bar')"
   ]
  },
  {
   "cell_type": "code",
   "execution_count": 212,
   "metadata": {},
   "outputs": [],
   "source": [
    "def map_gender(gender):\n",
    "    if(gender ==\"Female\"):\n",
    "        return 'Female'\n",
    "    else :\n",
    "        return \"MALE\""
   ]
  },
  {
   "cell_type": "code",
   "execution_count": 215,
   "metadata": {},
   "outputs": [
    {
     "data": {
      "text/plain": [
       "<matplotlib.axes._subplots.AxesSubplot at 0x29eda8c77f0>"
      ]
     },
     "execution_count": 215,
     "metadata": {},
     "output_type": "execute_result"
    },
    {
     "data": {
      "image/png": "[encoded data removed]",
      "text/plain": [
       "<Figure size 432x288 with 1 Axes>"
      ]
     },
     "metadata": {
      "needs_background": "light"
     },
     "output_type": "display_data"
    }
   ],
   "source": [
    "df[\"Q2: GENDER\"]=df[\"Q2: GENDER\"].map(map_gender);\n",
    "df[\"Q2: GENDER\"].value_counts().plot('bar')"
   ]
  },
  {
   "cell_type": "code",
   "execution_count": 219,
   "metadata": {},
   "outputs": [],
   "source": [
    "#\n",
    "c=df.columns\n",
    "for i in c :\n",
    "    if(df[i].isnull().sum()>=700):\n",
    "        df.drop(i,axis=1,inplace=True)"
   ]
  },
  {
   "cell_type": "code",
   "execution_count": 226,
   "metadata": {},
   "outputs": [
    {
     "data": {
      "text/html": [
       "<div>\n",
       "<style scoped>\n",
       "    .dataframe tbody tr th:only-of-type {\n",
       "        vertical-align: middle;\n",
       "    }\n",
       "\n",
       "    .dataframe tbody tr th {\n",
       "        vertical-align: top;\n",
       "    }\n",
       "\n",
       "    .dataframe thead th {\n",
       "        text-align: right;\n",
       "    }\n",
       "</style>\n",
       "<table border=\"1\" class=\"dataframe\">\n",
       "  <thead>\n",
       "    <tr style=\"text-align: right;\">\n",
       "      <th></th>\n",
       "      <th>Internal ID</th>\n",
       "      <th>Q1: GOING OUT?</th>\n",
       "      <th>Q2: GENDER</th>\n",
       "      <th>Q3: AGE</th>\n",
       "      <th>Q4: COUNTRY</th>\n",
       "      <th>Q5: STATE, PROVINCE, COUNTY, ETC</th>\n",
       "      <th>Q6 | Any full-sized candy bar</th>\n",
       "      <th>Q6 | Box'o'Raisins</th>\n",
       "      <th>Q6 | Butterfinger</th>\n",
       "      <th>Q6 | Cadbury Creme Eggs</th>\n",
       "      <th>...</th>\n",
       "      <th>Q6 | Milk Duds</th>\n",
       "      <th>Q6 | Milky Way</th>\n",
       "      <th>Q6 | Regular M&amp;Ms</th>\n",
       "      <th>Q6 | Peanut M&amp;M’s</th>\n",
       "      <th>Q6 | Nestle Crunch</th>\n",
       "      <th>Q6 | Reese’s Peanut Butter Cups</th>\n",
       "      <th>Q6 | Reese's Pieces</th>\n",
       "      <th>Q6 | Snickers</th>\n",
       "      <th>Q6 | Starburst</th>\n",
       "      <th>Q6 | Twix</th>\n",
       "    </tr>\n",
       "  </thead>\n",
       "  <tbody>\n",
       "    <tr>\n",
       "      <th>1</th>\n",
       "      <td>90272821</td>\n",
       "      <td>No</td>\n",
       "      <td>MALE</td>\n",
       "      <td>44</td>\n",
       "      <td>USA</td>\n",
       "      <td>NM</td>\n",
       "      <td>JOY</td>\n",
       "      <td>DESPAIR</td>\n",
       "      <td>DESPAIR</td>\n",
       "      <td>MEH</td>\n",
       "      <td>...</td>\n",
       "      <td>MEH</td>\n",
       "      <td>JOY</td>\n",
       "      <td>JOY</td>\n",
       "      <td>MEH</td>\n",
       "      <td>JOY</td>\n",
       "      <td>JOY</td>\n",
       "      <td>JOY</td>\n",
       "      <td>MEH</td>\n",
       "      <td>MEH</td>\n",
       "      <td>JOY</td>\n",
       "    </tr>\n",
       "    <tr>\n",
       "      <th>3</th>\n",
       "      <td>90272840</td>\n",
       "      <td>No</td>\n",
       "      <td>MALE</td>\n",
       "      <td>40</td>\n",
       "      <td>USA</td>\n",
       "      <td>or</td>\n",
       "      <td>JOY</td>\n",
       "      <td>DESPAIR</td>\n",
       "      <td>MEH</td>\n",
       "      <td>MEH</td>\n",
       "      <td>...</td>\n",
       "      <td>DESPAIR</td>\n",
       "      <td>JOY</td>\n",
       "      <td>MEH</td>\n",
       "      <td>JOY</td>\n",
       "      <td>MEH</td>\n",
       "      <td>JOY</td>\n",
       "      <td>MEH</td>\n",
       "      <td>JOY</td>\n",
       "      <td>MEH</td>\n",
       "      <td>JOY</td>\n",
       "    </tr>\n",
       "    <tr>\n",
       "      <th>7</th>\n",
       "      <td>90272854</td>\n",
       "      <td>No</td>\n",
       "      <td>MALE</td>\n",
       "      <td>33</td>\n",
       "      <td>Canada</td>\n",
       "      <td>ontario</td>\n",
       "      <td>JOY</td>\n",
       "      <td>MEH</td>\n",
       "      <td>JOY</td>\n",
       "      <td>JOY</td>\n",
       "      <td>...</td>\n",
       "      <td>JOY</td>\n",
       "      <td>JOY</td>\n",
       "      <td>JOY</td>\n",
       "      <td>JOY</td>\n",
       "      <td>JOY</td>\n",
       "      <td>JOY</td>\n",
       "      <td>JOY</td>\n",
       "      <td>MEH</td>\n",
       "      <td>MEH</td>\n",
       "      <td>JOY</td>\n",
       "    </tr>\n",
       "    <tr>\n",
       "      <th>8</th>\n",
       "      <td>90272858</td>\n",
       "      <td>No</td>\n",
       "      <td>MALE</td>\n",
       "      <td>40</td>\n",
       "      <td>Canada</td>\n",
       "      <td>Ontario</td>\n",
       "      <td>JOY</td>\n",
       "      <td>DESPAIR</td>\n",
       "      <td>JOY</td>\n",
       "      <td>MEH</td>\n",
       "      <td>...</td>\n",
       "      <td>JOY</td>\n",
       "      <td>JOY</td>\n",
       "      <td>JOY</td>\n",
       "      <td>JOY</td>\n",
       "      <td>JOY</td>\n",
       "      <td>JOY</td>\n",
       "      <td>JOY</td>\n",
       "      <td>JOY</td>\n",
       "      <td>DESPAIR</td>\n",
       "      <td>JOY</td>\n",
       "    </tr>\n",
       "    <tr>\n",
       "      <th>9</th>\n",
       "      <td>90272859</td>\n",
       "      <td>No</td>\n",
       "      <td>Female</td>\n",
       "      <td>53</td>\n",
       "      <td>USA</td>\n",
       "      <td>Wa</td>\n",
       "      <td>JOY</td>\n",
       "      <td>MEH</td>\n",
       "      <td>MEH</td>\n",
       "      <td>DESPAIR</td>\n",
       "      <td>...</td>\n",
       "      <td>MEH</td>\n",
       "      <td>MEH</td>\n",
       "      <td>JOY</td>\n",
       "      <td>MEH</td>\n",
       "      <td>MEH</td>\n",
       "      <td>JOY</td>\n",
       "      <td>JOY</td>\n",
       "      <td>MEH</td>\n",
       "      <td>MEH</td>\n",
       "      <td>JOY</td>\n",
       "    </tr>\n",
       "  </tbody>\n",
       "</table>\n",
       "<p>5 rows × 38 columns</p>\n",
       "</div>"
      ],
      "text/plain": [
       "   Internal ID Q1: GOING OUT? Q2: GENDER Q3: AGE Q4: COUNTRY  \\\n",
       "1     90272821             No       MALE      44         USA   \n",
       "3     90272840             No       MALE      40         USA   \n",
       "7     90272854             No       MALE      33      Canada   \n",
       "8     90272858             No       MALE      40      Canada   \n",
       "9     90272859             No     Female      53         USA   \n",
       "\n",
       "  Q5: STATE, PROVINCE, COUNTY, ETC Q6 | Any full-sized candy bar  \\\n",
       "1                               NM                           JOY   \n",
       "3                               or                           JOY   \n",
       "7                          ontario                           JOY   \n",
       "8                          Ontario                           JOY   \n",
       "9                               Wa                           JOY   \n",
       "\n",
       "  Q6 | Box'o'Raisins Q6 | Butterfinger Q6 | Cadbury Creme Eggs  ...  \\\n",
       "1            DESPAIR           DESPAIR                     MEH  ...   \n",
       "3            DESPAIR               MEH                     MEH  ...   \n",
       "7                MEH               JOY                     JOY  ...   \n",
       "8            DESPAIR               JOY                     MEH  ...   \n",
       "9                MEH               MEH                 DESPAIR  ...   \n",
       "\n",
       "  Q6 | Milk Duds Q6 | Milky Way Q6 | Regular M&Ms Q6 | Peanut M&M’s  \\\n",
       "1            MEH            JOY               JOY               MEH   \n",
       "3        DESPAIR            JOY               MEH               JOY   \n",
       "7            JOY            JOY               JOY               JOY   \n",
       "8            JOY            JOY               JOY               JOY   \n",
       "9            MEH            MEH               JOY               MEH   \n",
       "\n",
       "  Q6 | Nestle Crunch Q6 | Reese’s Peanut Butter Cups Q6 | Reese's Pieces  \\\n",
       "1                JOY                             JOY                 JOY   \n",
       "3                MEH                             JOY                 MEH   \n",
       "7                JOY                             JOY                 JOY   \n",
       "8                JOY                             JOY                 JOY   \n",
       "9                MEH                             JOY                 JOY   \n",
       "\n",
       "  Q6 | Snickers Q6 | Starburst Q6 | Twix  \n",
       "1           MEH            MEH       JOY  \n",
       "3           JOY            MEH       JOY  \n",
       "7           MEH            MEH       JOY  \n",
       "8           JOY        DESPAIR       JOY  \n",
       "9           MEH            MEH       JOY  \n",
       "\n",
       "[5 rows x 38 columns]"
      ]
     },
     "execution_count": 226,
     "metadata": {},
     "output_type": "execute_result"
    }
   ],
   "source": [
    "df.head()"
   ]
  },
  {
   "cell_type": "code",
   "execution_count": 218,
   "metadata": {},
   "outputs": [
    {
     "data": {
      "text/plain": [
       "84"
      ]
     },
     "execution_count": 218,
     "metadata": {},
     "output_type": "execute_result"
    }
   ],
   "source": [
    "df[\"Q3: AGE\"].isnull().sum()"
   ]
  },
  {
   "cell_type": "code",
   "execution_count": 225,
   "metadata": {},
   "outputs": [
    {
     "data": {
      "text/plain": [
       "(1440, 38)"
      ]
     },
     "execution_count": 225,
     "metadata": {},
     "output_type": "execute_result"
    }
   ],
   "source": [
    "#looking on excel sheet i have noticed that alot of rows are empty so i decided to ramove any row with missing values \n",
    "df.dropna(axis=0,how='any',inplace=True)\n",
    "df.shape"
   ]
  },
  {
   "cell_type": "code",
   "execution_count": 228,
   "metadata": {},
   "outputs": [
    {
     "data": {
      "text/plain": [
       "array(['DESPAIR', 'MEH', 'JOY'], dtype=object)"
      ]
     },
     "execution_count": 228,
     "metadata": {},
     "output_type": "execute_result"
    }
   ],
   "source": [
    "df[\"Q6 | Box'o'Raisins\"].unique()"
   ]
  },
  {
   "cell_type": "code",
   "execution_count": 227,
   "metadata": {},
   "outputs": [
    {
     "data": {
      "text/plain": [
       "Internal ID                                                                    0\n",
       "Q1: GOING OUT?                                                                 0\n",
       "Q2: GENDER                                                                     0\n",
       "Q3: AGE                                                                        0\n",
       "Q4: COUNTRY                                                                    0\n",
       "Q5: STATE, PROVINCE, COUNTY, ETC                                               0\n",
       "Q6 | Any full-sized candy bar                                                  0\n",
       "Q6 | Box'o'Raisins                                                             0\n",
       "Q6 | Butterfinger                                                              0\n",
       "Q6 | Cadbury Creme Eggs                                                        0\n",
       "Q6 | Candy Corn                                                                0\n",
       "Q6 | Candy that is clearly just the stuff given out for free at restaurants    0\n",
       "Q6 | Cash, or other forms of legal tender                                      0\n",
       "Q6 | Dental paraphenalia                                                       0\n",
       "Q6 | Glow sticks                                                               0\n",
       "Q6 | Gummy Bears straight up                                                   0\n",
       "Q6 | Hard Candy                                                                0\n",
       "Q6 | Healthy Fruit                                                             0\n",
       "Q6 | Hershey's Dark Chocolate                                                  0\n",
       "Q6 | Hershey’s Milk Chocolate                                                  0\n",
       "Q6 | Hershey's Kisses                                                          0\n",
       "Q6 | Jolly Rancher (bad flavor)                                                0\n",
       "Q6 | Jolly Ranchers (good flavor)                                              0\n",
       "Q6 | Junior Mints                                                              0\n",
       "Q6 | Kit Kat                                                                   0\n",
       "Q6 | Licorice (not black)                                                      0\n",
       "Q6 | Licorice (yes black)                                                      0\n",
       "Q6 | Lollipops                                                                 0\n",
       "Q6 | Milk Duds                                                                 0\n",
       "Q6 | Milky Way                                                                 0\n",
       "Q6 | Regular M&Ms                                                              0\n",
       "Q6 | Peanut M&M’s                                                              0\n",
       "Q6 | Nestle Crunch                                                             0\n",
       "Q6 | Reese’s Peanut Butter Cups                                                0\n",
       "Q6 | Reese's Pieces                                                            0\n",
       "Q6 | Snickers                                                                  0\n",
       "Q6 | Starburst                                                                 0\n",
       "Q6 | Twix                                                                      0\n",
       "dtype: int64"
      ]
     },
     "execution_count": 227,
     "metadata": {},
     "output_type": "execute_result"
    }
   ],
   "source": [
    "df.isnull().sum()"
   ]
  },
  {
   "cell_type": "code",
   "execution_count": 234,
   "metadata": {},
   "outputs": [
    {
     "data": {
      "text/plain": [
       "<matplotlib.axes._subplots.AxesSubplot at 0x29edbf835c0>"
      ]
     },
     "execution_count": 234,
     "metadata": {},
     "output_type": "execute_result"
    },
    {
     "data": {
      "image/png": "[encoded data removed]",
      "text/plain": [
       "<Figure size 432x288 with 1 Axes>"
      ]
     },
     "metadata": {
      "needs_background": "light"
     },
     "output_type": "display_data"
    }
   ],
   "source": [
    "df['Q6 | Candy Corn'].value_counts().plot('bar')"
   ]
  },
  {
   "cell_type": "code",
   "execution_count": 237,
   "metadata": {},
   "outputs": [
    {
     "data": {
      "text/plain": [
       "array(['No', 'Yes'], dtype=object)"
      ]
     },
     "execution_count": 237,
     "metadata": {},
     "output_type": "execute_result"
    }
   ],
   "source": [
    "df[\"Q1: GOING OUT?\"].unique()"
   ]
  },
  {
   "cell_type": "code",
   "execution_count": 238,
   "metadata": {},
   "outputs": [
    {
     "data": {
      "text/plain": [
       "<matplotlib.axes._subplots.AxesSubplot at 0x29edbf83240>"
      ]
     },
     "execution_count": 238,
     "metadata": {},
     "output_type": "execute_result"
    },
    {
     "data": {
      "image/png": "[encoded data removed]",
      "text/plain": [
       "<Figure size 432x288 with 1 Axes>"
      ]
     },
     "metadata": {
      "needs_background": "light"
     },
     "output_type": "display_data"
    }
   ],
   "source": [
    "df[\"Q1: GOING OUT?\"].value_counts().plot('bar')"
   ]
  },
  {
   "cell_type": "code",
   "execution_count": 247,
   "metadata": {},
   "outputs": [
    {
     "name": "stdout",
     "output_type": "stream",
     "text": [
      "<class 'pandas.core.frame.DataFrame'>\n",
      "Int64Index: 1440 entries, 1 to 2459\n",
      "Data columns (total 38 columns):\n",
      "Internal ID                                                                    1440 non-null int64\n",
      "Q1: GOING OUT?                                                                 1440 non-null object\n",
      "Q2: GENDER                                                                     1440 non-null object\n",
      "Q3: AGE                                                                        1424 non-null float64\n",
      "Q4: COUNTRY                                                                    1440 non-null object\n",
      "Q5: STATE, PROVINCE, COUNTY, ETC                                               1440 non-null object\n",
      "Q6 | Any full-sized candy bar                                                  1440 non-null object\n",
      "Q6 | Box'o'Raisins                                                             1440 non-null object\n",
      "Q6 | Butterfinger                                                              1440 non-null object\n",
      "Q6 | Cadbury Creme Eggs                                                        1440 non-null object\n",
      "Q6 | Candy Corn                                                                1440 non-null object\n",
      "Q6 | Candy that is clearly just the stuff given out for free at restaurants    1440 non-null object\n",
      "Q6 | Cash, or other forms of legal tender                                      1440 non-null object\n",
      "Q6 | Dental paraphenalia                                                       1440 non-null object\n",
      "Q6 | Glow sticks                                                               1440 non-null object\n",
      "Q6 | Gummy Bears straight up                                                   1440 non-null object\n",
      "Q6 | Hard Candy                                                                1440 non-null object\n",
      "Q6 | Healthy Fruit                                                             1440 non-null object\n",
      "Q6 | Hershey's Dark Chocolate                                                  1440 non-null object\n",
      "Q6 | Hershey’s Milk Chocolate                                                  1440 non-null object\n",
      "Q6 | Hershey's Kisses                                                          1440 non-null object\n",
      "Q6 | Jolly Rancher (bad flavor)                                                1440 non-null object\n",
      "Q6 | Jolly Ranchers (good flavor)                                              1440 non-null object\n",
      "Q6 | Junior Mints                                                              1440 non-null object\n",
      "Q6 | Kit Kat                                                                   1440 non-null object\n",
      "Q6 | Licorice (not black)                                                      1440 non-null object\n",
      "Q6 | Licorice (yes black)                                                      1440 non-null object\n",
      "Q6 | Lollipops                                                                 1440 non-null object\n",
      "Q6 | Milk Duds                                                                 1440 non-null object\n",
      "Q6 | Milky Way                                                                 1440 non-null object\n",
      "Q6 | Regular M&Ms                                                              1440 non-null object\n",
      "Q6 | Peanut M&M’s                                                              1440 non-null object\n",
      "Q6 | Nestle Crunch                                                             1440 non-null object\n",
      "Q6 | Reese’s Peanut Butter Cups                                                1440 non-null object\n",
      "Q6 | Reese's Pieces                                                            1440 non-null object\n",
      "Q6 | Snickers                                                                  1440 non-null object\n",
      "Q6 | Starburst                                                                 1440 non-null object\n",
      "Q6 | Twix                                                                      1440 non-null object\n",
      "dtypes: float64(1), int64(1), object(36)\n",
      "memory usage: 438.8+ KB\n"
     ]
    }
   ],
   "source": [
    "df.info()"
   ]
  },
  {
   "cell_type": "code",
   "execution_count": 242,
   "metadata": {},
   "outputs": [
    {
     "data": {
      "text/plain": [
       "array([44, 40, 33, 53, 64, 43, 37, 59, 48, 49, 34, 35, 38, 58, 50, 47, 52,\n",
       "       41, 61, 46, 54, 62, 29, 42, 36, 32, 28, 45, 69, 67, 39, 25, 22, 51,\n",
       "       70, 24, 27, 18, 19, 'Old enough', 57, 66, 56, 12, 'Many', 60, 55,\n",
       "       65, '?', 11, 31, 'no', 68, 20, 21, 6, 10, 30, 63, 71, 13, 26,\n",
       "       '45-55', 312, 72, 99, 'hahahahaha', 88, 74, 102, 'older than dirt',\n",
       "       15, 8, 9, 23, 'Enough', 'See question 2', '24-50', 7, 14,\n",
       "       'Over 50', 90, 76, 100, 1000, 'ancient', 16, 'OLD', 75,\n",
       "       'MY NAME JEFF', 73, 'old enough',\n",
       "       'I can remember when Java was a cool new language'], dtype=object)"
      ]
     },
     "execution_count": 242,
     "metadata": {},
     "output_type": "execute_result"
    }
   ],
   "source": [
    "df['Q3: AGE'].unique() "
   ]
  },
  {
   "cell_type": "code",
   "execution_count": 243,
   "metadata": {},
   "outputs": [
    {
     "data": {
      "text/plain": [
       "<matplotlib.axes._subplots.AxesSubplot at 0x29edc4df6a0>"
      ]
     },
     "execution_count": 243,
     "metadata": {},
     "output_type": "execute_result"
    },
    {
     "data": {
      "image/png": "[encoded data removed]",
      "text/plain": [
       "<Figure size 432x288 with 1 Axes>"
      ]
     },
     "metadata": {
      "needs_background": "light"
     },
     "output_type": "display_data"
    }
   ],
   "source": [
    "\n",
    "df['Q3: AGE'].value_counts().plot('bar')"
   ]
  },
  {
   "cell_type": "code",
   "execution_count": 249,
   "metadata": {},
   "outputs": [
    {
     "data": {
      "text/plain": [
       "array([ 44.,  40.,  33.,  53.,  64.,  43.,  37.,  59.,  48.,  49.,  34.,\n",
       "        35.,  38.,  58.,  50.,  47.,  52.,  41.,  61.,  46.,  54.,  62.,\n",
       "        29.,  42.,  36.,  32.,  28.,  45.,  69.,  67.,  39.,  25.,  22.,\n",
       "        51.,  70.,  24.,  27.,  18.,  19.,  nan,  57.,  66.,  56.,  12.,\n",
       "        60.,  55.,  65.,  11.,  31.,  68.,  20.,  21.,   6.,  10.,  30.,\n",
       "        63.,  71.,  13.,  26.,  72.,  99.,  88.,  74., 102.,  15.,   8.,\n",
       "         9.,  23.,   7.,  14.,  90.,  76., 100.,  16.,  75.,  73.])"
      ]
     },
     "execution_count": 249,
     "metadata": {},
     "output_type": "execute_result"
    }
   ],
   "source": [
    "def map_age(x):\n",
    "    try :\n",
    "        if(x>105):\n",
    "            return np.nan\n",
    "        return float(x)\n",
    "    except :\n",
    "        return np.nan\n",
    "df['Q3: AGE']=df['Q3: AGE'].map(map_age)\n",
    "df['Q3: AGE'].unique()\n"
   ]
  },
  {
   "cell_type": "code",
   "execution_count": 246,
   "metadata": {},
   "outputs": [
    {
     "name": "stdout",
     "output_type": "stream",
     "text": [
      "<class 'pandas.core.series.Series'>\n"
     ]
    }
   ],
   "source": [
    "print(type(df['Q3: AGE']))"
   ]
  },
  {
   "cell_type": "code",
   "execution_count": 254,
   "metadata": {},
   "outputs": [],
   "source": [
    "df['Q3: AGE'].fillna(df['Q3: AGE'].mean(),inplace=True)"
   ]
  },
  {
   "cell_type": "code",
   "execution_count": 255,
   "metadata": {},
   "outputs": [
    {
     "data": {
      "text/plain": [
       "<matplotlib.axes._subplots.AxesSubplot at 0x29ede579d30>"
      ]
     },
     "execution_count": 255,
     "metadata": {},
     "output_type": "execute_result"
    },
    {
     "data": {
      "image/png": "[encoded data removed]",
      "text/plain": [
       "<Figure size 432x288 with 1 Axes>"
      ]
     },
     "metadata": {
      "needs_background": "light"
     },
     "output_type": "display_data"
    }
   ],
   "source": [
    "sns.distplot(df['Q3: AGE'])"
   ]
  },
  {
   "cell_type": "code",
   "execution_count": 236,
   "metadata": {},
   "outputs": [],
   "source": [
    "c=df.columns\n"
   ]
  },
  {
   "cell_type": "code",
   "execution_count": null,
   "metadata": {},
   "outputs": [],
   "source": []
  }
 ],
 "metadata": {
  "kernelspec": {
   "display_name": "Python 3",
   "language": "python",
   "name": "python3"
  },
  "language_info": {
   "codemirror_mode": {
    "name": "ipython",
    "version": 3
   },
   "file_extension": ".py",
   "mimetype": "text/x-python",
   "name": "python",
   "nbconvert_exporter": "python",
   "pygments_lexer": "ipython3",
   "version": "3.7.3"
  }
 },
 "nbformat": 4,
 "nbformat_minor": 2
}
