{
 "cells": [
  {
   "cell_type": "code",
   "execution_count": 140,
   "metadata": {},
   "outputs": [],
   "source": [
    "#import lib\n",
    "import pandas as pd \n",
    "import seaborn as sns \n",
    "import numpy as np\n",
    "import matplotlib.pyplot as plt "
   ]
  },
  {
   "cell_type": "code",
   "execution_count": 141,
   "metadata": {},
   "outputs": [],
   "source": [
    "#reading data \n",
    "df =pd.read_csv(\"C:\\\\Users\\\\Dell\\\\Downloads\\\\fish.csv\")"
   ]
  },
  {
   "cell_type": "code",
   "execution_count": 142,
   "metadata": {},
   "outputs": [
    {
     "data": {
      "text/html": [
       "<div>\n",
       "<style scoped>\n",
       "    .dataframe tbody tr th:only-of-type {\n",
       "        vertical-align: middle;\n",
       "    }\n",
       "\n",
       "    .dataframe tbody tr th {\n",
       "        vertical-align: top;\n",
       "    }\n",
       "\n",
       "    .dataframe thead th {\n",
       "        text-align: right;\n",
       "    }\n",
       "</style>\n",
       "<table border=\"1\" class=\"dataframe\">\n",
       "  <thead>\n",
       "    <tr style=\"text-align: right;\">\n",
       "      <th></th>\n",
       "      <th>Species</th>\n",
       "      <th>Weight</th>\n",
       "      <th>Length1</th>\n",
       "      <th>Length2</th>\n",
       "      <th>Length3</th>\n",
       "      <th>Height</th>\n",
       "      <th>Width</th>\n",
       "    </tr>\n",
       "  </thead>\n",
       "  <tbody>\n",
       "    <tr>\n",
       "      <th>0</th>\n",
       "      <td>Bream</td>\n",
       "      <td>242.0</td>\n",
       "      <td>23.2</td>\n",
       "      <td>25.4</td>\n",
       "      <td>30.0</td>\n",
       "      <td>11.5200</td>\n",
       "      <td>4.0200</td>\n",
       "    </tr>\n",
       "    <tr>\n",
       "      <th>1</th>\n",
       "      <td>Bream</td>\n",
       "      <td>290.0</td>\n",
       "      <td>24.0</td>\n",
       "      <td>26.3</td>\n",
       "      <td>31.2</td>\n",
       "      <td>12.4800</td>\n",
       "      <td>4.3056</td>\n",
       "    </tr>\n",
       "    <tr>\n",
       "      <th>2</th>\n",
       "      <td>Bream</td>\n",
       "      <td>340.0</td>\n",
       "      <td>23.9</td>\n",
       "      <td>26.5</td>\n",
       "      <td>31.1</td>\n",
       "      <td>12.3778</td>\n",
       "      <td>4.6961</td>\n",
       "    </tr>\n",
       "    <tr>\n",
       "      <th>3</th>\n",
       "      <td>Bream</td>\n",
       "      <td>363.0</td>\n",
       "      <td>26.3</td>\n",
       "      <td>29.0</td>\n",
       "      <td>33.5</td>\n",
       "      <td>12.7300</td>\n",
       "      <td>4.4555</td>\n",
       "    </tr>\n",
       "    <tr>\n",
       "      <th>4</th>\n",
       "      <td>Bream</td>\n",
       "      <td>430.0</td>\n",
       "      <td>26.5</td>\n",
       "      <td>29.0</td>\n",
       "      <td>34.0</td>\n",
       "      <td>12.4440</td>\n",
       "      <td>5.1340</td>\n",
       "    </tr>\n",
       "  </tbody>\n",
       "</table>\n",
       "</div>"
      ],
      "text/plain": [
       "  Species  Weight  Length1  Length2  Length3   Height   Width\n",
       "0   Bream   242.0     23.2     25.4     30.0  11.5200  4.0200\n",
       "1   Bream   290.0     24.0     26.3     31.2  12.4800  4.3056\n",
       "2   Bream   340.0     23.9     26.5     31.1  12.3778  4.6961\n",
       "3   Bream   363.0     26.3     29.0     33.5  12.7300  4.4555\n",
       "4   Bream   430.0     26.5     29.0     34.0  12.4440  5.1340"
      ]
     },
     "execution_count": 142,
     "metadata": {},
     "output_type": "execute_result"
    }
   ],
   "source": [
    "df.head()"
   ]
  },
  {
   "cell_type": "code",
   "execution_count": 143,
   "metadata": {},
   "outputs": [
    {
     "name": "stdout",
     "output_type": "stream",
     "text": [
      "<class 'pandas.core.frame.DataFrame'>\n",
      "RangeIndex: 159 entries, 0 to 158\n",
      "Data columns (total 7 columns):\n",
      " #   Column   Non-Null Count  Dtype  \n",
      "---  ------   --------------  -----  \n",
      " 0   Species  159 non-null    object \n",
      " 1   Weight   159 non-null    float64\n",
      " 2   Length1  159 non-null    float64\n",
      " 3   Length2  159 non-null    float64\n",
      " 4   Length3  159 non-null    float64\n",
      " 5   Height   159 non-null    float64\n",
      " 6   Width    159 non-null    float64\n",
      "dtypes: float64(6), object(1)\n",
      "memory usage: 8.8+ KB\n"
     ]
    }
   ],
   "source": [
    "df.info()\n",
    "#number_columns = 7\n"
   ]
  },
  {
   "cell_type": "code",
   "execution_count": 144,
   "metadata": {},
   "outputs": [
    {
     "data": {
      "text/html": [
       "<div>\n",
       "<style scoped>\n",
       "    .dataframe tbody tr th:only-of-type {\n",
       "        vertical-align: middle;\n",
       "    }\n",
       "\n",
       "    .dataframe tbody tr th {\n",
       "        vertical-align: top;\n",
       "    }\n",
       "\n",
       "    .dataframe thead th {\n",
       "        text-align: right;\n",
       "    }\n",
       "</style>\n",
       "<table border=\"1\" class=\"dataframe\">\n",
       "  <thead>\n",
       "    <tr style=\"text-align: right;\">\n",
       "      <th></th>\n",
       "      <th>count</th>\n",
       "      <th>mean</th>\n",
       "      <th>std</th>\n",
       "      <th>min</th>\n",
       "      <th>25%</th>\n",
       "      <th>50%</th>\n",
       "      <th>75%</th>\n",
       "      <th>max</th>\n",
       "    </tr>\n",
       "  </thead>\n",
       "  <tbody>\n",
       "    <tr>\n",
       "      <th>Weight</th>\n",
       "      <td>159.0</td>\n",
       "      <td>398.326415</td>\n",
       "      <td>357.978317</td>\n",
       "      <td>0.0000</td>\n",
       "      <td>120.00000</td>\n",
       "      <td>273.0000</td>\n",
       "      <td>650.0000</td>\n",
       "      <td>1650.000</td>\n",
       "    </tr>\n",
       "    <tr>\n",
       "      <th>Length1</th>\n",
       "      <td>159.0</td>\n",
       "      <td>26.247170</td>\n",
       "      <td>9.996441</td>\n",
       "      <td>7.5000</td>\n",
       "      <td>19.05000</td>\n",
       "      <td>25.2000</td>\n",
       "      <td>32.7000</td>\n",
       "      <td>59.000</td>\n",
       "    </tr>\n",
       "    <tr>\n",
       "      <th>Length2</th>\n",
       "      <td>159.0</td>\n",
       "      <td>28.415723</td>\n",
       "      <td>10.716328</td>\n",
       "      <td>8.4000</td>\n",
       "      <td>21.00000</td>\n",
       "      <td>27.3000</td>\n",
       "      <td>35.5000</td>\n",
       "      <td>63.400</td>\n",
       "    </tr>\n",
       "    <tr>\n",
       "      <th>Length3</th>\n",
       "      <td>159.0</td>\n",
       "      <td>31.227044</td>\n",
       "      <td>11.610246</td>\n",
       "      <td>8.8000</td>\n",
       "      <td>23.15000</td>\n",
       "      <td>29.4000</td>\n",
       "      <td>39.6500</td>\n",
       "      <td>68.000</td>\n",
       "    </tr>\n",
       "    <tr>\n",
       "      <th>Height</th>\n",
       "      <td>159.0</td>\n",
       "      <td>8.970994</td>\n",
       "      <td>4.286208</td>\n",
       "      <td>1.7284</td>\n",
       "      <td>5.94480</td>\n",
       "      <td>7.7860</td>\n",
       "      <td>12.3659</td>\n",
       "      <td>18.957</td>\n",
       "    </tr>\n",
       "    <tr>\n",
       "      <th>Width</th>\n",
       "      <td>159.0</td>\n",
       "      <td>4.417486</td>\n",
       "      <td>1.685804</td>\n",
       "      <td>1.0476</td>\n",
       "      <td>3.38565</td>\n",
       "      <td>4.2485</td>\n",
       "      <td>5.5845</td>\n",
       "      <td>8.142</td>\n",
       "    </tr>\n",
       "  </tbody>\n",
       "</table>\n",
       "</div>"
      ],
      "text/plain": [
       "         count        mean         std     min        25%       50%       75%  \\\n",
       "Weight   159.0  398.326415  357.978317  0.0000  120.00000  273.0000  650.0000   \n",
       "Length1  159.0   26.247170    9.996441  7.5000   19.05000   25.2000   32.7000   \n",
       "Length2  159.0   28.415723   10.716328  8.4000   21.00000   27.3000   35.5000   \n",
       "Length3  159.0   31.227044   11.610246  8.8000   23.15000   29.4000   39.6500   \n",
       "Height   159.0    8.970994    4.286208  1.7284    5.94480    7.7860   12.3659   \n",
       "Width    159.0    4.417486    1.685804  1.0476    3.38565    4.2485    5.5845   \n",
       "\n",
       "              max  \n",
       "Weight   1650.000  \n",
       "Length1    59.000  \n",
       "Length2    63.400  \n",
       "Length3    68.000  \n",
       "Height     18.957  \n",
       "Width       8.142  "
      ]
     },
     "execution_count": 144,
     "metadata": {},
     "output_type": "execute_result"
    }
   ],
   "source": [
    "df.describe().T"
   ]
  },
  {
   "cell_type": "code",
   "execution_count": 145,
   "metadata": {},
   "outputs": [
    {
     "data": {
      "text/plain": [
       "Species    0\n",
       "Weight     0\n",
       "Length1    0\n",
       "Length2    0\n",
       "Length3    0\n",
       "Height     0\n",
       "Width      0\n",
       "dtype: int64"
      ]
     },
     "execution_count": 145,
     "metadata": {},
     "output_type": "execute_result"
    }
   ],
   "source": [
    "df.isnull().sum()"
   ]
  },
  {
   "cell_type": "code",
   "execution_count": 146,
   "metadata": {},
   "outputs": [
    {
     "data": {
      "text/plain": [
       "0"
      ]
     },
     "execution_count": 146,
     "metadata": {},
     "output_type": "execute_result"
    }
   ],
   "source": [
    "df.duplicated().sum()"
   ]
  },
  {
   "cell_type": "code",
   "execution_count": 147,
   "metadata": {},
   "outputs": [
    {
     "data": {
      "image/png": "[encoded data removed]",
      "text/plain": [
       "<Figure size 432x288 with 1 Axes>"
      ]
     },
     "metadata": {
      "needs_background": "light"
     },
     "output_type": "display_data"
    }
   ],
   "source": [
    "c=dict(df.Species.value_counts())\n",
    "plt.bar(list(c.keys()),list(c.values()),color='red')\n",
    "plt.xlabel(\"spices\")\n",
    "plt.ylabel(\"Count\")\n",
    "plt.show()"
   ]
  },
  {
   "cell_type": "code",
   "execution_count": 148,
   "metadata": {},
   "outputs": [],
   "source": [
    "def p(x):\n",
    "    plt.figure(figsize=(8,6))\n",
    "    plt.subplot(2,1,1)\n",
    "    plt.hist(df[x])\n",
    "    plt.show()\n",
    "    plt.subplot(2,1,2)\n",
    "    sns.boxplot(df[x])\n",
    "    plt.show()"
   ]
  },
  {
   "cell_type": "code",
   "execution_count": 149,
   "metadata": {},
   "outputs": [
    {
     "data": {
      "image/png": "[encoded data removed]",
      "text/plain": [
       "<Figure size 576x432 with 1 Axes>"
      ]
     },
     "metadata": {
      "needs_background": "light"
     },
     "output_type": "display_data"
    },
    {
     "data": {
      "image/png": "[encoded data removed]",
      "text/plain": [
       "<Figure size 432x288 with 1 Axes>"
      ]
     },
     "metadata": {
      "needs_background": "light"
     },
     "output_type": "display_data"
    }
   ],
   "source": [
    "p(\"Length1\")\n",
    "#the boxplot shows there are two out layers the will be handeled later "
   ]
  },
  {
   "cell_type": "code",
   "execution_count": 150,
   "metadata": {},
   "outputs": [
    {
     "data": {
      "image/png": "[encoded data removed]",
      "text/plain": [
       "<Figure size 576x432 with 1 Axes>"
      ]
     },
     "metadata": {
      "needs_background": "light"
     },
     "output_type": "display_data"
    },
    {
     "data": {
      "image/png": "[encoded data removed]",
      "text/plain": [
       "<Figure size 432x288 with 1 Axes>"
      ]
     },
     "metadata": {
      "needs_background": "light"
     },
     "output_type": "display_data"
    }
   ],
   "source": [
    "p(\"Length2\")\n",
    "#i will drop this as the histgram shows that lentgh1 and lentgh2 are almost the same "
   ]
  },
  {
   "cell_type": "code",
   "execution_count": 151,
   "metadata": {},
   "outputs": [
    {
     "data": {
      "image/png": "[encoded data removed]",
      "text/plain": [
       "<Figure size 576x432 with 1 Axes>"
      ]
     },
     "metadata": {
      "needs_background": "light"
     },
     "output_type": "display_data"
    },
    {
     "data": {
      "image/png": "[encoded data removed]",
      "text/plain": [
       "<Figure size 432x288 with 1 Axes>"
      ]
     },
     "metadata": {
      "needs_background": "light"
     },
     "output_type": "display_data"
    }
   ],
   "source": [
    "p(\"Length3\")"
   ]
  },
  {
   "cell_type": "code",
   "execution_count": 152,
   "metadata": {},
   "outputs": [
    {
     "data": {
      "image/png": "[encoded data removed]",
      "text/plain": [
       "<Figure size 576x432 with 1 Axes>"
      ]
     },
     "metadata": {
      "needs_background": "light"
     },
     "output_type": "display_data"
    },
    {
     "data": {
      "image/png": "[encoded data removed]",
      "text/plain": [
       "<Figure size 432x288 with 1 Axes>"
      ]
     },
     "metadata": {
      "needs_background": "light"
     },
     "output_type": "display_data"
    }
   ],
   "source": [
    "p(\"Height\")"
   ]
  },
  {
   "cell_type": "code",
   "execution_count": 153,
   "metadata": {},
   "outputs": [
    {
     "data": {
      "image/png": "[encoded data removed]",
      "text/plain": [
       "<Figure size 576x432 with 1 Axes>"
      ]
     },
     "metadata": {
      "needs_background": "light"
     },
     "output_type": "display_data"
    },
    {
     "data": {
      "image/png": "[encoded data removed]",
      "text/plain": [
       "<Figure size 432x288 with 1 Axes>"
      ]
     },
     "metadata": {
      "needs_background": "light"
     },
     "output_type": "display_data"
    }
   ],
   "source": [
    "p(\"Width\")"
   ]
  },
  {
   "cell_type": "code",
   "execution_count": 154,
   "metadata": {},
   "outputs": [
    {
     "data": {
      "image/png": "[encoded data removed]",
      "text/plain": [
       "<Figure size 432x288 with 2 Axes>"
      ]
     },
     "metadata": {
      "needs_background": "light"
     },
     "output_type": "display_data"
    }
   ],
   "source": [
    "sns.heatmap(df.corr(), annot=True, cmap='YlGnBu');"
   ]
  },
  {
   "cell_type": "markdown",
   "metadata": {},
   "source": [
    "the heatmap shows tha lenght1,length2 and length3 are highlo collerated then i will try to build the model with and without(length2 and length3) to show the difference "
   ]
  },
  {
   "cell_type": "code",
   "execution_count": 155,
   "metadata": {},
   "outputs": [
    {
     "data": {
      "text/plain": [
       "142    1600.0\n",
       "143    1550.0\n",
       "144    1650.0\n",
       "Name: Weight, dtype: float64"
      ]
     },
     "execution_count": 155,
     "metadata": {},
     "output_type": "execute_result"
    }
   ],
   "source": [
    "#handling out_layers \n",
    "#as i cosider height and length1 and width an the most important 3 features \n",
    "#hegith has no outlayers the i will handel the out_layer for lenght1 and widrh \n",
    "\n",
    "\n",
    "#weight_outlayers\n",
    "df_weight = df['Weight']\n",
    "df_weight_q1=df_weight.quantile(0.25)\n",
    "df_weight_q3=df_weight.quantile(0.75)\n",
    "df_weight_IQR= df_weight_q3-df_weight_q1\n",
    "df_weight_lowerpound=df_weight_q1-1.5*df_weight_IQR\n",
    "df_weight_higherpound=df_weight_q3+1.5*df_weight_IQR\n",
    "dfw_outliers = df_weight[(df_weight < df_weight_lowerpound ) | (df_weight> df_weight_higherpound)]\n",
    "dfw_outliers"
   ]
  },
  {
   "cell_type": "code",
   "execution_count": 156,
   "metadata": {},
   "outputs": [
    {
     "data": {
      "text/plain": [
       "142    56.0\n",
       "143    56.0\n",
       "144    59.0\n",
       "Name: Length1, dtype: float64"
      ]
     },
     "execution_count": 156,
     "metadata": {},
     "output_type": "execute_result"
    }
   ],
   "source": [
    "#lenght1_outlayers\n",
    "df_length = df['Length1']\n",
    "df_length_q1=df_length1.quantile(0.25)\n",
    "df_length_q3=df_length1.quantile(0.75)\n",
    "df_length_IQR= df_length_q3-df_length_q1\n",
    "df_length_lowerpound=df_length_q1-1.5*df_length_IQR\n",
    "df_length_higherpound=df_length_q3+1.5*df_length_IQR\n",
    "dfl_outliers = df_length[(df_length < df_length_lowerpound ) | (df_length> df_length_higherpound)]\n",
    "dfl_outliers"
   ]
  },
  {
   "cell_type": "code",
   "execution_count": 157,
   "metadata": {},
   "outputs": [
    {
     "data": {
      "text/html": [
       "<div>\n",
       "<style scoped>\n",
       "    .dataframe tbody tr th:only-of-type {\n",
       "        vertical-align: middle;\n",
       "    }\n",
       "\n",
       "    .dataframe tbody tr th {\n",
       "        vertical-align: top;\n",
       "    }\n",
       "\n",
       "    .dataframe thead th {\n",
       "        text-align: right;\n",
       "    }\n",
       "</style>\n",
       "<table border=\"1\" class=\"dataframe\">\n",
       "  <thead>\n",
       "    <tr style=\"text-align: right;\">\n",
       "      <th></th>\n",
       "      <th>Weight</th>\n",
       "      <th>Length1</th>\n",
       "      <th>Length2</th>\n",
       "      <th>Length3</th>\n",
       "      <th>Height</th>\n",
       "      <th>Width</th>\n",
       "    </tr>\n",
       "  </thead>\n",
       "  <tbody>\n",
       "    <tr>\n",
       "      <th>0</th>\n",
       "      <td>242.0</td>\n",
       "      <td>23.2</td>\n",
       "      <td>25.4</td>\n",
       "      <td>30.0</td>\n",
       "      <td>11.5200</td>\n",
       "      <td>4.0200</td>\n",
       "    </tr>\n",
       "    <tr>\n",
       "      <th>1</th>\n",
       "      <td>290.0</td>\n",
       "      <td>24.0</td>\n",
       "      <td>26.3</td>\n",
       "      <td>31.2</td>\n",
       "      <td>12.4800</td>\n",
       "      <td>4.3056</td>\n",
       "    </tr>\n",
       "    <tr>\n",
       "      <th>2</th>\n",
       "      <td>340.0</td>\n",
       "      <td>23.9</td>\n",
       "      <td>26.5</td>\n",
       "      <td>31.1</td>\n",
       "      <td>12.3778</td>\n",
       "      <td>4.6961</td>\n",
       "    </tr>\n",
       "    <tr>\n",
       "      <th>3</th>\n",
       "      <td>363.0</td>\n",
       "      <td>26.3</td>\n",
       "      <td>29.0</td>\n",
       "      <td>33.5</td>\n",
       "      <td>12.7300</td>\n",
       "      <td>4.4555</td>\n",
       "    </tr>\n",
       "    <tr>\n",
       "      <th>4</th>\n",
       "      <td>430.0</td>\n",
       "      <td>26.5</td>\n",
       "      <td>29.0</td>\n",
       "      <td>34.0</td>\n",
       "      <td>12.4440</td>\n",
       "      <td>5.1340</td>\n",
       "    </tr>\n",
       "  </tbody>\n",
       "</table>\n",
       "</div>"
      ],
      "text/plain": [
       "   Weight  Length1  Length2  Length3   Height   Width\n",
       "0   242.0     23.2     25.4     30.0  11.5200  4.0200\n",
       "1   290.0     24.0     26.3     31.2  12.4800  4.3056\n",
       "2   340.0     23.9     26.5     31.1  12.3778  4.6961\n",
       "3   363.0     26.3     29.0     33.5  12.7300  4.4555\n",
       "4   430.0     26.5     29.0     34.0  12.4440  5.1340"
      ]
     },
     "execution_count": 157,
     "metadata": {},
     "output_type": "execute_result"
    }
   ],
   "source": [
    "df1=df.iloc[:,1:7]\n",
    "df1.head()"
   ]
  },
  {
   "cell_type": "code",
   "execution_count": 158,
   "metadata": {},
   "outputs": [
    {
     "data": {
      "text/html": [
       "<div>\n",
       "<style scoped>\n",
       "    .dataframe tbody tr th:only-of-type {\n",
       "        vertical-align: middle;\n",
       "    }\n",
       "\n",
       "    .dataframe tbody tr th {\n",
       "        vertical-align: top;\n",
       "    }\n",
       "\n",
       "    .dataframe thead th {\n",
       "        text-align: right;\n",
       "    }\n",
       "</style>\n",
       "<table border=\"1\" class=\"dataframe\">\n",
       "  <thead>\n",
       "    <tr style=\"text-align: right;\">\n",
       "      <th></th>\n",
       "      <th>Weight</th>\n",
       "      <th>Length1</th>\n",
       "      <th>Length2</th>\n",
       "      <th>Length3</th>\n",
       "      <th>Height</th>\n",
       "      <th>Width</th>\n",
       "    </tr>\n",
       "  </thead>\n",
       "  <tbody>\n",
       "    <tr>\n",
       "      <th>0</th>\n",
       "      <td>-0.438072</td>\n",
       "      <td>-0.305789</td>\n",
       "      <td>-0.282303</td>\n",
       "      <td>-0.106020</td>\n",
       "      <td>0.596579</td>\n",
       "      <td>-0.236529</td>\n",
       "    </tr>\n",
       "    <tr>\n",
       "      <th>1</th>\n",
       "      <td>-0.303562</td>\n",
       "      <td>-0.225507</td>\n",
       "      <td>-0.198054</td>\n",
       "      <td>-0.002337</td>\n",
       "      <td>0.821261</td>\n",
       "      <td>-0.066579</td>\n",
       "    </tr>\n",
       "    <tr>\n",
       "      <th>2</th>\n",
       "      <td>-0.163448</td>\n",
       "      <td>-0.235542</td>\n",
       "      <td>-0.179332</td>\n",
       "      <td>-0.010977</td>\n",
       "      <td>0.797341</td>\n",
       "      <td>0.165793</td>\n",
       "    </tr>\n",
       "    <tr>\n",
       "      <th>3</th>\n",
       "      <td>-0.098995</td>\n",
       "      <td>0.005302</td>\n",
       "      <td>0.054694</td>\n",
       "      <td>0.196390</td>\n",
       "      <td>0.879771</td>\n",
       "      <td>0.022621</td>\n",
       "    </tr>\n",
       "    <tr>\n",
       "      <th>4</th>\n",
       "      <td>0.088759</td>\n",
       "      <td>0.025372</td>\n",
       "      <td>0.054694</td>\n",
       "      <td>0.239592</td>\n",
       "      <td>0.812835</td>\n",
       "      <td>0.426371</td>\n",
       "    </tr>\n",
       "  </tbody>\n",
       "</table>\n",
       "</div>"
      ],
      "text/plain": [
       "     Weight   Length1   Length2   Length3    Height     Width\n",
       "0 -0.438072 -0.305789 -0.282303 -0.106020  0.596579 -0.236529\n",
       "1 -0.303562 -0.225507 -0.198054 -0.002337  0.821261 -0.066579\n",
       "2 -0.163448 -0.235542 -0.179332 -0.010977  0.797341  0.165793\n",
       "3 -0.098995  0.005302  0.054694  0.196390  0.879771  0.022621\n",
       "4  0.088759  0.025372  0.054694  0.239592  0.812835  0.426371"
      ]
     },
     "execution_count": 158,
     "metadata": {},
     "output_type": "execute_result"
    }
   ],
   "source": [
    "\n",
    "from sklearn import preprocessing\n",
    "# Get column names first\n",
    "names = df1.columns\n",
    "# Create the Scaler object\n",
    "scaler = preprocessing.StandardScaler()\n",
    "# Fit your data on the scaler object\n",
    "scaled_df = scaler.fit_transform(df1)\n",
    "scaled_df = pd.DataFrame(scaled_df, columns=names)\n",
    "scaled_df.head()"
   ]
  },
  {
   "cell_type": "code",
   "execution_count": 159,
   "metadata": {},
   "outputs": [
    {
     "name": "stdout",
     "output_type": "stream",
     "text": [
      "(159, 5)\n",
      "(159,)\n"
     ]
    }
   ],
   "source": [
    "#without using standerscaler on df1 \n",
    "x=df.iloc[:,2:7]\n",
    "y=df['Weight']\n",
    "print(x.shape)\n",
    "print(y.shape)\n"
   ]
  },
  {
   "cell_type": "code",
   "execution_count": 160,
   "metadata": {},
   "outputs": [
    {
     "name": "stdout",
     "output_type": "stream",
     "text": [
      "X_train1:  (127, 5)\n",
      "y_train1:  (127,)\n",
      "X_test1:  (32, 5)\n",
      "y_test1:  (32,)\n"
     ]
    }
   ],
   "source": [
    "from sklearn.model_selection import train_test_split\n",
    "X_train1, X_test1, y_train1, y_test1 = train_test_split(X, y, test_size=0.2, random_state=1)\n",
    "print('X_train1: ', np.shape(X_train1))\n",
    "print('y_train1: ', np.shape(y_train1))\n",
    "print('X_test1: ', np.shape(X_test1))\n",
    "print('y_test1: ', np.shape(y_test1))"
   ]
  },
  {
   "cell_type": "code",
   "execution_count": 161,
   "metadata": {},
   "outputs": [
    {
     "data": {
      "text/html": [
       "<div>\n",
       "<style scoped>\n",
       "    .dataframe tbody tr th:only-of-type {\n",
       "        vertical-align: middle;\n",
       "    }\n",
       "\n",
       "    .dataframe tbody tr th {\n",
       "        vertical-align: top;\n",
       "    }\n",
       "\n",
       "    .dataframe thead th {\n",
       "        text-align: right;\n",
       "    }\n",
       "</style>\n",
       "<table border=\"1\" class=\"dataframe\">\n",
       "  <thead>\n",
       "    <tr style=\"text-align: right;\">\n",
       "      <th></th>\n",
       "      <th>Length1</th>\n",
       "      <th>Length2</th>\n",
       "      <th>Length3</th>\n",
       "      <th>Height</th>\n",
       "      <th>Width</th>\n",
       "    </tr>\n",
       "  </thead>\n",
       "  <tbody>\n",
       "    <tr>\n",
       "      <th>111</th>\n",
       "      <td>32.5</td>\n",
       "      <td>35.0</td>\n",
       "      <td>37.3</td>\n",
       "      <td>11.4884</td>\n",
       "      <td>7.7957</td>\n",
       "    </tr>\n",
       "    <tr>\n",
       "      <th>131</th>\n",
       "      <td>34.8</td>\n",
       "      <td>37.3</td>\n",
       "      <td>39.8</td>\n",
       "      <td>6.2884</td>\n",
       "      <td>4.0198</td>\n",
       "    </tr>\n",
       "    <tr>\n",
       "      <th>58</th>\n",
       "      <td>28.5</td>\n",
       "      <td>31.0</td>\n",
       "      <td>34.0</td>\n",
       "      <td>10.7440</td>\n",
       "      <td>6.5620</td>\n",
       "    </tr>\n",
       "    <tr>\n",
       "      <th>102</th>\n",
       "      <td>25.2</td>\n",
       "      <td>27.3</td>\n",
       "      <td>28.7</td>\n",
       "      <td>8.3230</td>\n",
       "      <td>5.1373</td>\n",
       "    </tr>\n",
       "    <tr>\n",
       "      <th>47</th>\n",
       "      <td>21.1</td>\n",
       "      <td>22.5</td>\n",
       "      <td>25.0</td>\n",
       "      <td>6.4000</td>\n",
       "      <td>3.8000</td>\n",
       "    </tr>\n",
       "  </tbody>\n",
       "</table>\n",
       "</div>"
      ],
      "text/plain": [
       "     Length1  Length2  Length3   Height   Width\n",
       "111     32.5     35.0     37.3  11.4884  7.7957\n",
       "131     34.8     37.3     39.8   6.2884  4.0198\n",
       "58      28.5     31.0     34.0  10.7440  6.5620\n",
       "102     25.2     27.3     28.7   8.3230  5.1373\n",
       "47      21.1     22.5     25.0   6.4000  3.8000"
      ]
     },
     "execution_count": 161,
     "metadata": {},
     "output_type": "execute_result"
    }
   ],
   "source": [
    "X_train1.head()"
   ]
  },
  {
   "cell_type": "code",
   "execution_count": 162,
   "metadata": {
    "scrolled": true
   },
   "outputs": [
    {
     "data": {
      "text/plain": [
       "0.8704220588719108"
      ]
     },
     "execution_count": 162,
     "metadata": {},
     "output_type": "execute_result"
    }
   ],
   "source": [
    "from sklearn.linear_model import LinearRegression\n",
    "reg=LinearRegression()\n",
    "reg.fit(X_train1,y_train1)\n",
    "reg.score(X_test1,y_test1)"
   ]
  },
  {
   "cell_type": "code",
   "execution_count": 163,
   "metadata": {},
   "outputs": [
    {
     "data": {
      "text/plain": [
       "0.8671655845053421"
      ]
     },
     "execution_count": 163,
     "metadata": {},
     "output_type": "execute_result"
    }
   ],
   "source": [
    "#dealing with scaled data frame \n",
    "x1=scaled_df.iloc[:,2:7]\n",
    "y1=scaled_df['Weight']\n",
    "from sklearn.model_selection import train_test_split\n",
    "X_train2, X_test2, y_train2, y_test2 = train_test_split(x1, y1, test_size=0.2, random_state=1)\n",
    "reg.fit(X_train2,y_train2)\n",
    "reg.score(X_test2,y_test2)"
   ]
  },
  {
   "cell_type": "code",
   "execution_count": 169,
   "metadata": {},
   "outputs": [
    {
     "data": {
      "text/plain": [
       "array([0.81765216, 0.91436595, 0.89627558, 0.88435975, 0.80323317])"
      ]
     },
     "execution_count": 169,
     "metadata": {},
     "output_type": "execute_result"
    }
   ],
   "source": [
    "#use cross validation to get represtitive values\n",
    "from sklearn.model_selection import cross_val_score\n",
    "reg=LinearRegression()\n",
    "cv_results = cross_val_score(reg,X_train2, y_train2, cv=5)\n",
    "cv_results \n"
   ]
  },
  {
   "cell_type": "code",
   "execution_count": 170,
   "metadata": {},
   "outputs": [
    {
     "name": "stdout",
     "output_type": "stream",
     "text": [
      "0.8631773210475366\n"
     ]
    }
   ],
   "source": [
    "#get he mean value cv_results\n",
    "print(np.mean(cv_results))"
   ]
  },
  {
   "cell_type": "code",
   "execution_count": null,
   "metadata": {},
   "outputs": [],
   "source": [
    "#remove oultyers and dealing with model again \n",
    "df2 = df.drop([142,143,144])\n",
    "df2.describe().T"
   ]
  },
  {
   "cell_type": "code",
   "execution_count": 173,
   "metadata": {},
   "outputs": [
    {
     "name": "stdout",
     "output_type": "stream",
     "text": [
      "0.8952132388952407\n"
     ]
    }
   ],
   "source": [
    "x_no_out=df2.iloc[:,2:7]\n",
    "y_no_out=df2['Weight']\n",
    "X_train3, X_test3, y_train3, y_test3 = train_test_split(x_no_out, y_no_out, test_size=0.2, random_state=1)\n",
    "reg=LinearRegression()\n",
    "cv_results2 = cross_val_score(reg, X_train3, y_train3,cv= 5)\n",
    "print(np.mean(cv_results2))\n",
    "#note that the accuracy of he model in higher now "
   ]
  },
  {
   "cell_type": "code",
   "execution_count": 191,
   "metadata": {},
   "outputs": [
    {
     "data": {
      "text/html": [
       "<div>\n",
       "<style scoped>\n",
       "    .dataframe tbody tr th:only-of-type {\n",
       "        vertical-align: middle;\n",
       "    }\n",
       "\n",
       "    .dataframe tbody tr th {\n",
       "        vertical-align: top;\n",
       "    }\n",
       "\n",
       "    .dataframe thead th {\n",
       "        text-align: right;\n",
       "    }\n",
       "</style>\n",
       "<table border=\"1\" class=\"dataframe\">\n",
       "  <thead>\n",
       "    <tr style=\"text-align: right;\">\n",
       "      <th></th>\n",
       "      <th>Species</th>\n",
       "      <th>Weight</th>\n",
       "      <th>Length1</th>\n",
       "      <th>Height</th>\n",
       "      <th>Width</th>\n",
       "    </tr>\n",
       "  </thead>\n",
       "  <tbody>\n",
       "    <tr>\n",
       "      <th>0</th>\n",
       "      <td>Bream</td>\n",
       "      <td>242.0</td>\n",
       "      <td>23.2</td>\n",
       "      <td>11.5200</td>\n",
       "      <td>4.0200</td>\n",
       "    </tr>\n",
       "    <tr>\n",
       "      <th>1</th>\n",
       "      <td>Bream</td>\n",
       "      <td>290.0</td>\n",
       "      <td>24.0</td>\n",
       "      <td>12.4800</td>\n",
       "      <td>4.3056</td>\n",
       "    </tr>\n",
       "    <tr>\n",
       "      <th>2</th>\n",
       "      <td>Bream</td>\n",
       "      <td>340.0</td>\n",
       "      <td>23.9</td>\n",
       "      <td>12.3778</td>\n",
       "      <td>4.6961</td>\n",
       "    </tr>\n",
       "    <tr>\n",
       "      <th>3</th>\n",
       "      <td>Bream</td>\n",
       "      <td>363.0</td>\n",
       "      <td>26.3</td>\n",
       "      <td>12.7300</td>\n",
       "      <td>4.4555</td>\n",
       "    </tr>\n",
       "    <tr>\n",
       "      <th>4</th>\n",
       "      <td>Bream</td>\n",
       "      <td>430.0</td>\n",
       "      <td>26.5</td>\n",
       "      <td>12.4440</td>\n",
       "      <td>5.1340</td>\n",
       "    </tr>\n",
       "  </tbody>\n",
       "</table>\n",
       "</div>"
      ],
      "text/plain": [
       "  Species  Weight  Length1   Height   Width\n",
       "0   Bream   242.0     23.2  11.5200  4.0200\n",
       "1   Bream   290.0     24.0  12.4800  4.3056\n",
       "2   Bream   340.0     23.9  12.3778  4.6961\n",
       "3   Bream   363.0     26.3  12.7300  4.4555\n",
       "4   Bream   430.0     26.5  12.4440  5.1340"
      ]
     },
     "execution_count": 191,
     "metadata": {},
     "output_type": "execute_result"
    }
   ],
   "source": [
    "#it is the to remove highlt colleated features and check if there is a differnce or not \n",
    "#i will use the data without \"outlayers\"\n",
    "df_no_corr=df2.drop(['Length2','Length3'],axis=1)\n",
    "df_no_corr.head()"
   ]
  },
  {
   "cell_type": "code",
   "execution_count": 192,
   "metadata": {},
   "outputs": [
    {
     "name": "stdout",
     "output_type": "stream",
     "text": [
      "   Length1   Height   Width\n",
      "0     23.2  11.5200  4.0200\n",
      "1     24.0  12.4800  4.3056\n",
      "2     23.9  12.3778  4.6961\n",
      "3     26.3  12.7300  4.4555\n",
      "4     26.5  12.4440  5.1340\n",
      "0    242.0\n",
      "1    290.0\n",
      "2    340.0\n",
      "3    363.0\n",
      "4    430.0\n",
      "Name: Weight, dtype: float64\n"
     ]
    }
   ],
   "source": [
    "x_no_corr=df_no_corr.iloc[:,2:5]\n",
    "y_no_corr=df_no_corr['Weight']\n",
    "print(x_no_corr.head())\n",
    "print(y_no_corr.head())"
   ]
  },
  {
   "cell_type": "code",
   "execution_count": 195,
   "metadata": {},
   "outputs": [
    {
     "name": "stdout",
     "output_type": "stream",
     "text": [
      "0.8874769257973524\n"
     ]
    }
   ],
   "source": [
    "X_train4, X_test4, y_train4, y_test4 = train_test_split(x_no_corr, y_no_corr, test_size=0.2, random_state=1)\n",
    "reg=LinearRegression()\n",
    "reg.fit(X_train4,y_train4)\n",
    "cv_results3= cross_val_score(reg,X_train4 , y_train4,cv= 5)\n",
    "print(np.mean(cv_results3))"
   ]
  },
  {
   "cell_type": "code",
   "execution_count": 196,
   "metadata": {},
   "outputs": [],
   "source": [
    "y_pred=reg.predict(X_test4)"
   ]
  },
  {
   "cell_type": "code",
   "execution_count": 197,
   "metadata": {},
   "outputs": [
    {
     "data": {
      "text/html": [
       "<div>\n",
       "<style scoped>\n",
       "    .dataframe tbody tr th:only-of-type {\n",
       "        vertical-align: middle;\n",
       "    }\n",
       "\n",
       "    .dataframe tbody tr th {\n",
       "        vertical-align: top;\n",
       "    }\n",
       "\n",
       "    .dataframe thead th {\n",
       "        text-align: right;\n",
       "    }\n",
       "</style>\n",
       "<table border=\"1\" class=\"dataframe\">\n",
       "  <thead>\n",
       "    <tr style=\"text-align: right;\">\n",
       "      <th></th>\n",
       "      <th>Weight</th>\n",
       "      <th>Estimated Weight</th>\n",
       "    </tr>\n",
       "  </thead>\n",
       "  <tbody>\n",
       "    <tr>\n",
       "      <th>0</th>\n",
       "      <td>650.0</td>\n",
       "      <td>686.548274</td>\n",
       "    </tr>\n",
       "    <tr>\n",
       "      <th>1</th>\n",
       "      <td>51.5</td>\n",
       "      <td>22.326816</td>\n",
       "    </tr>\n",
       "    <tr>\n",
       "      <th>2</th>\n",
       "      <td>180.0</td>\n",
       "      <td>279.949017</td>\n",
       "    </tr>\n",
       "    <tr>\n",
       "      <th>3</th>\n",
       "      <td>955.0</td>\n",
       "      <td>780.125975</td>\n",
       "    </tr>\n",
       "    <tr>\n",
       "      <th>4</th>\n",
       "      <td>40.0</td>\n",
       "      <td>-43.094101</td>\n",
       "    </tr>\n",
       "    <tr>\n",
       "      <th>5</th>\n",
       "      <td>0.0</td>\n",
       "      <td>162.476573</td>\n",
       "    </tr>\n",
       "    <tr>\n",
       "      <th>6</th>\n",
       "      <td>600.0</td>\n",
       "      <td>567.729677</td>\n",
       "    </tr>\n",
       "    <tr>\n",
       "      <th>7</th>\n",
       "      <td>514.0</td>\n",
       "      <td>594.086035</td>\n",
       "    </tr>\n",
       "    <tr>\n",
       "      <th>8</th>\n",
       "      <td>272.0</td>\n",
       "      <td>393.388830</td>\n",
       "    </tr>\n",
       "    <tr>\n",
       "      <th>9</th>\n",
       "      <td>9.8</td>\n",
       "      <td>-185.356326</td>\n",
       "    </tr>\n",
       "    <tr>\n",
       "      <th>10</th>\n",
       "      <td>9.8</td>\n",
       "      <td>-185.803465</td>\n",
       "    </tr>\n",
       "    <tr>\n",
       "      <th>11</th>\n",
       "      <td>78.0</td>\n",
       "      <td>97.047262</td>\n",
       "    </tr>\n",
       "    <tr>\n",
       "      <th>12</th>\n",
       "      <td>150.0</td>\n",
       "      <td>210.302286</td>\n",
       "    </tr>\n",
       "    <tr>\n",
       "      <th>13</th>\n",
       "      <td>110.0</td>\n",
       "      <td>220.056984</td>\n",
       "    </tr>\n",
       "    <tr>\n",
       "      <th>14</th>\n",
       "      <td>135.0</td>\n",
       "      <td>183.342628</td>\n",
       "    </tr>\n",
       "    <tr>\n",
       "      <th>15</th>\n",
       "      <td>450.0</td>\n",
       "      <td>494.688260</td>\n",
       "    </tr>\n",
       "    <tr>\n",
       "      <th>16</th>\n",
       "      <td>1100.0</td>\n",
       "      <td>816.725247</td>\n",
       "    </tr>\n",
       "    <tr>\n",
       "      <th>17</th>\n",
       "      <td>700.0</td>\n",
       "      <td>589.867991</td>\n",
       "    </tr>\n",
       "    <tr>\n",
       "      <th>18</th>\n",
       "      <td>650.0</td>\n",
       "      <td>631.686313</td>\n",
       "    </tr>\n",
       "    <tr>\n",
       "      <th>19</th>\n",
       "      <td>1000.0</td>\n",
       "      <td>798.528974</td>\n",
       "    </tr>\n",
       "    <tr>\n",
       "      <th>20</th>\n",
       "      <td>270.0</td>\n",
       "      <td>330.047780</td>\n",
       "    </tr>\n",
       "    <tr>\n",
       "      <th>21</th>\n",
       "      <td>7.5</td>\n",
       "      <td>-206.340575</td>\n",
       "    </tr>\n",
       "    <tr>\n",
       "      <th>22</th>\n",
       "      <td>6.7</td>\n",
       "      <td>-228.452726</td>\n",
       "    </tr>\n",
       "    <tr>\n",
       "      <th>23</th>\n",
       "      <td>180.0</td>\n",
       "      <td>244.263392</td>\n",
       "    </tr>\n",
       "    <tr>\n",
       "      <th>24</th>\n",
       "      <td>145.0</td>\n",
       "      <td>202.838853</td>\n",
       "    </tr>\n",
       "    <tr>\n",
       "      <th>25</th>\n",
       "      <td>200.0</td>\n",
       "      <td>268.183130</td>\n",
       "    </tr>\n",
       "    <tr>\n",
       "      <th>26</th>\n",
       "      <td>150.0</td>\n",
       "      <td>197.149257</td>\n",
       "    </tr>\n",
       "    <tr>\n",
       "      <th>27</th>\n",
       "      <td>120.0</td>\n",
       "      <td>158.193323</td>\n",
       "    </tr>\n",
       "    <tr>\n",
       "      <th>28</th>\n",
       "      <td>820.0</td>\n",
       "      <td>749.448451</td>\n",
       "    </tr>\n",
       "    <tr>\n",
       "      <th>29</th>\n",
       "      <td>145.0</td>\n",
       "      <td>201.617694</td>\n",
       "    </tr>\n",
       "    <tr>\n",
       "      <th>30</th>\n",
       "      <td>250.0</td>\n",
       "      <td>364.215503</td>\n",
       "    </tr>\n",
       "    <tr>\n",
       "      <th>31</th>\n",
       "      <td>567.0</td>\n",
       "      <td>633.836677</td>\n",
       "    </tr>\n",
       "  </tbody>\n",
       "</table>\n",
       "</div>"
      ],
      "text/plain": [
       "    Weight  Estimated Weight\n",
       "0    650.0        686.548274\n",
       "1     51.5         22.326816\n",
       "2    180.0        279.949017\n",
       "3    955.0        780.125975\n",
       "4     40.0        -43.094101\n",
       "5      0.0        162.476573\n",
       "6    600.0        567.729677\n",
       "7    514.0        594.086035\n",
       "8    272.0        393.388830\n",
       "9      9.8       -185.356326\n",
       "10     9.8       -185.803465\n",
       "11    78.0         97.047262\n",
       "12   150.0        210.302286\n",
       "13   110.0        220.056984\n",
       "14   135.0        183.342628\n",
       "15   450.0        494.688260\n",
       "16  1100.0        816.725247\n",
       "17   700.0        589.867991\n",
       "18   650.0        631.686313\n",
       "19  1000.0        798.528974\n",
       "20   270.0        330.047780\n",
       "21     7.5       -206.340575\n",
       "22     6.7       -228.452726\n",
       "23   180.0        244.263392\n",
       "24   145.0        202.838853\n",
       "25   200.0        268.183130\n",
       "26   150.0        197.149257\n",
       "27   120.0        158.193323\n",
       "28   820.0        749.448451\n",
       "29   145.0        201.617694\n",
       "30   250.0        364.215503\n",
       "31   567.0        633.836677"
      ]
     },
     "execution_count": 197,
     "metadata": {},
     "output_type": "execute_result"
    }
   ],
   "source": [
    "y_pred1 = pd.DataFrame(y_pred, columns=['Estimated Weight'])\n",
    "y_test1 = pd.DataFrame(y_test4)\n",
    "y_test1 = y_test1.reset_index(drop=True)\n",
    "ynew = pd.concat([y_test1, y_pred1], axis=1)\n",
    "ynew"
   ]
  }
 ],
 "metadata": {
  "kernelspec": {
   "display_name": "Python 3",
   "language": "python",
   "name": "python3"
  },
  "language_info": {
   "codemirror_mode": {
    "name": "ipython",
    "version": 3
   },
   "file_extension": ".py",
   "mimetype": "text/x-python",
   "name": "python",
   "nbconvert_exporter": "python",
   "pygments_lexer": "ipython3",
   "version": "3.7.3"
  }
 },
 "nbformat": 4,
 "nbformat_minor": 2
}
